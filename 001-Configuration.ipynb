{
 "cells": [
  {
   "cell_type": "markdown",
   "metadata": {},
   "source": [
    "# Configuration"
   ]
  },
  {
   "cell_type": "markdown",
   "metadata": {},
   "source": [
    "- **Setting up your Azure Machine Learning services workspace and configuring your notebook library**\n",
    "\n",
    "---\n"
   ]
  },
  {
   "cell_type": "markdown",
   "metadata": {},
   "source": [
    "## Table of Contents\n",
    "\n",
    "1. [Introduction](#Introduction)\n",
    "    1. What is an Azure Machine Learning workspace\n",
    "1. [Setup](#Setup)\n",
    "    1. Azure subscription\n",
    "    1. Azure ML SDK and other library installation\n",
    "    1. Azure Container Instance registration\n",
    "1. [Configure your Azure ML Workspace](#Configure%20your%20Azure%20ML%20workspace)\n",
    "    1. Workspace parameters\n",
    "    1. Access your workspace\n",
    "    1. Create a new workspace\n",
    "    1. Create compute resources\n",
    "1. [Next steps](#Next%20steps)\n",
    "\n",
    "---\n"
   ]
  },
  {
   "cell_type": "markdown",
   "metadata": {},
   "source": [
    "## 1. Introduction\n",
    "\n",
    "- This notebook configures your library of notebooks to connect to an Azure Machine Learning (ML) workspace.  In this case, a library contains all of the notebooks in the current folder and any nested folders.  You can configure this notebook library to use an existing workspace or create a new workspace.\n",
    "\n",
    "- Typically you will need to run this notebook only once per notebook library as all other notebooks will use connection information that is written here.  If you want to redirect your notebook library to work with a different workspace, then you should re-run this notebook.\n",
    "\n",
    "In this notebook you will\n",
    "* Learn about getting an Azure subscription\n",
    "* Specify your workspace parameters\n",
    "* Access or create your workspace\n",
    "* Add a default compute cluster for your workspace\n"
   ]
  },
  {
   "cell_type": "markdown",
   "metadata": {},
   "source": [
    "### What is an Azure Machine Learning workspace\n",
    "\n",
    "- An Azure ML Workspace is an Azure resource that organizes and coordinates the actions of many other Azure resources to assist in executing and sharing machine learning workflows.  In particular, an Azure ML Workspace coordinates storage,databases, and compute resources providing added functionality for machine learning experimentation, deployment, inference, and the monitoring of deployed models.\n",
    "---"
   ]
  },
  {
   "cell_type": "markdown",
   "metadata": {},
   "source": [
    "## 2. Setup\n",
    "\n",
    "- This section describes activities required before you can access any Azure ML services functionality.\n",
    "\n",
    "### 2.1. Azure Subscription\n",
    "\n",
    "- In order to create an Azure ML Workspace, first you need access to an Azure subscription.  An Azure subscription allows you to manage storage, compute, and other assets in the Azure cloud.  You can [create a new subscription](https://azure.microsoft.com/en-us/free/) or access existing subscription information from the [Azure portal](https://portal.azure.com).  Later in this notebook you will need information such as your subscription ID in order to create and access AML workspaces."
   ]
  },
  {
   "cell_type": "markdown",
   "metadata": {},
   "source": [
    "### 2.2. Azure ML SDK and other library installation\n",
    "\n",
    "If you are running in your own environment, follow [SDK installation instructions](https://docs.microsoft.com/azure/machine-learning/service/how-to-configure-environment).  If you are running in Azure Notebooks or another Microsoft managed environment, the SDK is already installed.\n",
    "\n",
    "Also install following libraries to your environment. Many of the example notebooks depend on them\n",
    "\n",
    "```\n",
    "(myenv) $ conda install -y matplotlib tqdm scikit-learn\n",
    "```\n",
    "\n",
    "Once installation is complete, the following cell checks the Azure ML SDK version:"
   ]
  },
  {
   "cell_type": "code",
   "execution_count": 1,
   "metadata": {},
   "outputs": [
    {
     "name": "stdout",
     "output_type": "stream",
     "text": [
      "Collecting azureml-coreNote: you may need to restart the kernel to use updated packages.\n",
      "\n",
      "  Downloading azureml_core-1.59.0-py3-none-any.whl.metadata (3.2 kB)\n",
      "Requirement already satisfied: pytz in c:\\users\\casie\\data science coding folder\\.venv\\lib\\site-packages (from azureml-core) (2024.2)\n",
      "Collecting backports.tempfile (from azureml-core)\n",
      "  Downloading backports.tempfile-1.0-py2.py3-none-any.whl.metadata (2.3 kB)\n",
      "Requirement already satisfied: pathspec<1.0.0 in c:\\users\\casie\\data science coding folder\\.venv\\lib\\site-packages (from azureml-core) (0.12.1)\n",
      "Collecting requests<3.0.0,>=2.19.1 (from requests[socks]<3.0.0,>=2.19.1->azureml-core)\n",
      "  Downloading requests-2.32.3-py3-none-any.whl.metadata (4.6 kB)\n",
      "Collecting msal<2.0.0,>=1.15.0 (from azureml-core)\n",
      "  Downloading msal-1.31.1-py3-none-any.whl.metadata (11 kB)\n",
      "Collecting msal-extensions<=2.0.0,>=0.3.0 (from azureml-core)\n",
      "  Downloading msal_extensions-1.2.0-py3-none-any.whl.metadata (7.6 kB)\n",
      "Collecting knack<0.13.0 (from azureml-core)\n",
      "  Downloading knack-0.12.0-py3-none-any.whl.metadata (5.2 kB)\n",
      "Collecting azure-core<2.0.0 (from azureml-core)\n",
      "  Downloading azure_core-1.32.0-py3-none-any.whl.metadata (39 kB)\n",
      "Collecting pkginfo (from azureml-core)\n",
      "  Downloading pkginfo-1.12.0-py3-none-any.whl.metadata (12 kB)\n",
      "Collecting argcomplete<4 (from azureml-core)\n",
      "  Downloading argcomplete-3.5.3-py3-none-any.whl.metadata (16 kB)\n",
      "Collecting humanfriendly<11.0,>=4.7 (from azureml-core)\n",
      "  Downloading humanfriendly-10.0-py2.py3-none-any.whl.metadata (9.2 kB)\n",
      "Collecting paramiko<4.0.0,>=2.0.8 (from azureml-core)\n",
      "  Downloading paramiko-3.5.0-py3-none-any.whl.metadata (4.4 kB)\n",
      "Collecting azure-mgmt-resource<=24.0.0,>=15.0.0 (from azureml-core)\n",
      "  Downloading azure_mgmt_resource-23.2.0-py3-none-any.whl.metadata (38 kB)\n",
      "Collecting azure-mgmt-containerregistry<11,>=8.2.0 (from azureml-core)\n",
      "  Downloading azure_mgmt_containerregistry-10.3.0-py3-none-any.whl.metadata (23 kB)\n",
      "Collecting azure-mgmt-storage<=22.0.0,>=16.0.0 (from azureml-core)\n",
      "  Downloading azure_mgmt_storage-21.2.1-py3-none-any.whl.metadata (31 kB)\n",
      "Collecting azure-mgmt-keyvault<11.0.0,>=0.40.0 (from azureml-core)\n",
      "  Downloading azure_mgmt_keyvault-10.3.1-py3-none-any.whl.metadata (15 kB)\n",
      "Collecting azure-mgmt-authorization<5,>=0.40.0 (from azureml-core)\n",
      "  Downloading azure_mgmt_authorization-4.0.0-py3-none-any.whl.metadata (18 kB)\n",
      "Collecting azure-mgmt-network<=29.0.0 (from azureml-core)\n",
      "  Downloading azure_mgmt_network-28.1.0-py3-none-any.whl.metadata (90 kB)\n",
      "Collecting azure-graphrbac<1.0.0,>=0.40.0 (from azureml-core)\n",
      "  Downloading azure_graphrbac-0.61.2-py2.py3-none-any.whl.metadata (11 kB)\n",
      "Collecting azure-common<2.0.0,>=1.1.12 (from azureml-core)\n",
      "  Downloading azure_common-1.1.28-py2.py3-none-any.whl.metadata (5.0 kB)\n",
      "Collecting msrest<=0.7.1,>=0.5.1 (from azureml-core)\n",
      "  Downloading msrest-0.7.1-py3-none-any.whl.metadata (21 kB)\n",
      "Collecting msrestazure<=0.7,>=0.4.33 (from azureml-core)\n",
      "  Downloading msrestazure-0.6.4.post1-py2.py3-none-any.whl.metadata (15 kB)\n",
      "Collecting urllib3<3.0.0,>1.26.17 (from azureml-core)\n",
      "  Downloading urllib3-2.3.0-py3-none-any.whl.metadata (6.5 kB)\n",
      "Requirement already satisfied: packaging<=25.0,>=20.0 in c:\\users\\casie\\data science coding folder\\.venv\\lib\\site-packages (from azureml-core) (24.2)\n",
      "Requirement already satisfied: python-dateutil<3.0.0,>=2.7.3 in c:\\users\\casie\\data science coding folder\\.venv\\lib\\site-packages (from azureml-core) (2.9.0.post0)\n",
      "Collecting ndg-httpsclient<=0.5.1 (from azureml-core)\n",
      "  Downloading ndg_httpsclient-0.5.1-py3-none-any.whl.metadata (6.2 kB)\n",
      "Collecting SecretStorage<4.0.0 (from azureml-core)\n",
      "  Downloading SecretStorage-3.3.3-py3-none-any.whl.metadata (4.0 kB)\n",
      "Collecting jsonpickle<5.0.0 (from azureml-core)\n",
      "  Downloading jsonpickle-4.0.1-py3-none-any.whl.metadata (8.2 kB)\n",
      "Collecting contextlib2<22.0.0 (from azureml-core)\n",
      "  Downloading contextlib2-21.6.0-py2.py3-none-any.whl.metadata (4.1 kB)\n",
      "Collecting docker<8.0.0 (from azureml-core)\n",
      "  Downloading docker-7.1.0-py3-none-any.whl.metadata (3.8 kB)\n",
      "Collecting PyJWT<3.0.0 (from azureml-core)\n",
      "  Downloading PyJWT-2.10.1-py3-none-any.whl.metadata (4.0 kB)\n",
      "Collecting adal<=1.2.7,>=1.2.0 (from azureml-core)\n",
      "  Downloading adal-1.2.7-py2.py3-none-any.whl.metadata (6.9 kB)\n",
      "Collecting pyopenssl<25.0.0 (from azureml-core)\n",
      "  Downloading pyOpenSSL-24.3.0-py3-none-any.whl.metadata (15 kB)\n",
      "Collecting jmespath<2.0.0 (from azureml-core)\n",
      "  Downloading jmespath-1.0.1-py3-none-any.whl.metadata (7.6 kB)\n",
      "Collecting cryptography>=1.1.0 (from adal<=1.2.7,>=1.2.0->azureml-core)\n",
      "  Downloading cryptography-44.0.0-cp39-abi3-win_amd64.whl.metadata (5.7 kB)\n",
      "Requirement already satisfied: six>=1.11.0 in c:\\users\\casie\\data science coding folder\\.venv\\lib\\site-packages (from azure-core<2.0.0->azureml-core) (1.17.0)\n",
      "Requirement already satisfied: typing-extensions>=4.6.0 in c:\\users\\casie\\data science coding folder\\.venv\\lib\\site-packages (from azure-core<2.0.0->azureml-core) (4.12.2)\n",
      "Collecting isodate<1.0.0,>=0.6.1 (from azure-mgmt-authorization<5,>=0.40.0->azureml-core)\n",
      "  Downloading isodate-0.7.2-py3-none-any.whl.metadata (11 kB)\n",
      "Collecting azure-mgmt-core<2.0.0,>=1.3.2 (from azure-mgmt-authorization<5,>=0.40.0->azureml-core)\n",
      "  Downloading azure_mgmt_core-1.5.0-py3-none-any.whl.metadata (4.3 kB)\n",
      "Requirement already satisfied: pywin32>=304 in c:\\users\\casie\\data science coding folder\\.venv\\lib\\site-packages (from docker<8.0.0->azureml-core) (308)\n",
      "Collecting pyreadline3 (from humanfriendly<11.0,>=4.7->azureml-core)\n",
      "  Downloading pyreadline3-3.5.4-py3-none-any.whl.metadata (4.7 kB)\n",
      "Requirement already satisfied: pygments in c:\\users\\casie\\data science coding folder\\.venv\\lib\\site-packages (from knack<0.13.0->azureml-core) (2.18.0)\n",
      "Requirement already satisfied: pyyaml in c:\\users\\casie\\data science coding folder\\.venv\\lib\\site-packages (from knack<0.13.0->azureml-core) (6.0.2)\n",
      "Collecting tabulate (from knack<0.13.0->azureml-core)\n",
      "  Downloading tabulate-0.9.0-py3-none-any.whl.metadata (34 kB)\n",
      "Collecting portalocker<3,>=1.4 (from msal-extensions<=2.0.0,>=0.3.0->azureml-core)\n",
      "  Downloading portalocker-2.10.1-py3-none-any.whl.metadata (8.5 kB)\n",
      "Collecting certifi>=2017.4.17 (from msrest<=0.7.1,>=0.5.1->azureml-core)\n",
      "  Downloading certifi-2024.12.14-py3-none-any.whl.metadata (2.3 kB)\n",
      "Collecting requests-oauthlib>=0.5.0 (from msrest<=0.7.1,>=0.5.1->azureml-core)\n",
      "  Downloading requests_oauthlib-2.0.0-py2.py3-none-any.whl.metadata (11 kB)\n",
      "Collecting pyasn1>=0.1.1 (from ndg-httpsclient<=0.5.1->azureml-core)\n",
      "  Downloading pyasn1-0.6.1-py3-none-any.whl.metadata (8.4 kB)\n",
      "Collecting bcrypt>=3.2 (from paramiko<4.0.0,>=2.0.8->azureml-core)\n",
      "  Downloading bcrypt-4.2.1-cp39-abi3-win_amd64.whl.metadata (10 kB)\n",
      "Collecting pynacl>=1.5 (from paramiko<4.0.0,>=2.0.8->azureml-core)\n",
      "  Downloading PyNaCl-1.5.0-cp36-abi3-win_amd64.whl.metadata (8.7 kB)\n",
      "Collecting charset-normalizer<4,>=2 (from requests<3.0.0,>=2.19.1->requests[socks]<3.0.0,>=2.19.1->azureml-core)\n",
      "  Downloading charset_normalizer-3.4.1-cp310-cp310-win_amd64.whl.metadata (36 kB)\n",
      "Collecting idna<4,>=2.5 (from requests<3.0.0,>=2.19.1->requests[socks]<3.0.0,>=2.19.1->azureml-core)\n",
      "  Downloading idna-3.10-py3-none-any.whl.metadata (10 kB)\n",
      "Collecting PySocks!=1.5.7,>=1.5.6 (from requests[socks]<3.0.0,>=2.19.1->azureml-core)\n",
      "  Downloading PySocks-1.7.1-py3-none-any.whl.metadata (13 kB)\n",
      "Collecting jeepney>=0.6 (from SecretStorage<4.0.0->azureml-core)\n",
      "  Downloading jeepney-0.8.0-py3-none-any.whl.metadata (1.3 kB)\n",
      "Collecting backports.weakref (from backports.tempfile->azureml-core)\n",
      "  Downloading backports.weakref-1.0.post1-py2.py3-none-any.whl.metadata (2.3 kB)\n",
      "Collecting cffi>=1.12 (from cryptography>=1.1.0->adal<=1.2.7,>=1.2.0->azureml-core)\n",
      "  Downloading cffi-1.17.1-cp310-cp310-win_amd64.whl.metadata (1.6 kB)\n",
      "Collecting oauthlib>=3.0.0 (from requests-oauthlib>=0.5.0->msrest<=0.7.1,>=0.5.1->azureml-core)\n",
      "  Downloading oauthlib-3.2.2-py3-none-any.whl.metadata (7.5 kB)\n",
      "Collecting pycparser (from cffi>=1.12->cryptography>=1.1.0->adal<=1.2.7,>=1.2.0->azureml-core)\n",
      "  Downloading pycparser-2.22-py3-none-any.whl.metadata (943 bytes)\n",
      "Downloading azureml_core-1.59.0-py3-none-any.whl (3.3 MB)\n",
      "   ---------------------------------------- 0.0/3.3 MB ? eta -:--:--\n",
      "   --- ------------------------------------ 0.3/3.3 MB ? eta -:--:--\n",
      "   ------ --------------------------------- 0.5/3.3 MB 1.7 MB/s eta 0:00:02\n",
      "   ------------ --------------------------- 1.0/3.3 MB 2.0 MB/s eta 0:00:02\n",
      "   ------------------ --------------------- 1.6/3.3 MB 2.0 MB/s eta 0:00:01\n",
      "   ------------------------- -------------- 2.1/3.3 MB 2.1 MB/s eta 0:00:01\n",
      "   ------------------------- -------------- 2.1/3.3 MB 2.1 MB/s eta 0:00:01\n",
      "   ---------------------------------- ----- 2.9/3.3 MB 2.1 MB/s eta 0:00:01\n",
      "   ---------------------------------------- 3.3/3.3 MB 2.2 MB/s eta 0:00:00\n",
      "Downloading adal-1.2.7-py2.py3-none-any.whl (55 kB)\n",
      "Downloading argcomplete-3.5.3-py3-none-any.whl (43 kB)\n",
      "Downloading azure_common-1.1.28-py2.py3-none-any.whl (14 kB)\n",
      "Downloading azure_core-1.32.0-py3-none-any.whl (198 kB)\n",
      "Downloading azure_graphrbac-0.61.2-py2.py3-none-any.whl (142 kB)\n",
      "Downloading azure_mgmt_authorization-4.0.0-py3-none-any.whl (1.1 MB)\n",
      "   ---------------------------------------- 0.0/1.1 MB ? eta -:--:--\n",
      "   ----------------------------- ---------- 0.8/1.1 MB 3.7 MB/s eta 0:00:01\n",
      "   ---------------------------------------- 1.1/1.1 MB 4.0 MB/s eta 0:00:00\n",
      "Downloading azure_mgmt_containerregistry-10.3.0-py3-none-any.whl (2.3 MB)\n",
      "   ---------------------------------------- 0.0/2.3 MB ? eta -:--:--\n",
      "   ------------------ --------------------- 1.0/2.3 MB 5.0 MB/s eta 0:00:01\n",
      "   ------------------------------- -------- 1.8/2.3 MB 4.4 MB/s eta 0:00:01\n",
      "   ---------------------------------------- 2.3/2.3 MB 4.5 MB/s eta 0:00:00\n",
      "Downloading azure_mgmt_keyvault-10.3.1-py3-none-any.whl (901 kB)\n",
      "   ---------------------------------------- 0.0/901.4 kB ? eta -:--:--\n",
      "   ---------------------------------------- 901.4/901.4 kB 5.1 MB/s eta 0:00:00\n",
      "Downloading azure_mgmt_network-28.1.0-py3-none-any.whl (575 kB)\n",
      "   ---------------------------------------- 0.0/575.3 kB ? eta -:--:--\n",
      "   ---------------------------------------- 575.3/575.3 kB 5.0 MB/s eta 0:00:00\n",
      "Downloading azure_mgmt_resource-23.2.0-py3-none-any.whl (2.7 MB)\n",
      "   ---------------------------------------- 0.0/2.7 MB ? eta -:--:--\n",
      "   --------------- ------------------------ 1.0/2.7 MB 5.0 MB/s eta 0:00:01\n",
      "   ----------------------------------- ---- 2.4/2.7 MB 5.4 MB/s eta 0:00:01\n",
      "   ---------------------------------------- 2.7/2.7 MB 4.2 MB/s eta 0:00:00\n",
      "Downloading azure_mgmt_storage-21.2.1-py3-none-any.whl (3.2 MB)\n",
      "   ---------------------------------------- 0.0/3.2 MB ? eta -:--:--\n",
      "   --------- ------------------------------ 0.8/3.2 MB 4.8 MB/s eta 0:00:01\n",
      "   --------- ------------------------------ 0.8/3.2 MB 4.8 MB/s eta 0:00:01\n",
      "   --------- ------------------------------ 0.8/3.2 MB 4.8 MB/s eta 0:00:01\n",
      "   ------------- -------------------------- 1.0/3.2 MB 1.3 MB/s eta 0:00:02\n",
      "   ------------- -------------------------- 1.0/3.2 MB 1.3 MB/s eta 0:00:02\n",
      "   ---------------- ----------------------- 1.3/3.2 MB 1.1 MB/s eta 0:00:02\n",
      "   ------------------- -------------------- 1.6/3.2 MB 1.1 MB/s eta 0:00:02\n",
      "   ----------------------------- ---------- 2.4/3.2 MB 1.3 MB/s eta 0:00:01\n",
      "   ------------------------------------ --- 2.9/3.2 MB 1.6 MB/s eta 0:00:01\n",
      "   ---------------------------------------- 3.2/3.2 MB 1.6 MB/s eta 0:00:00\n",
      "Downloading contextlib2-21.6.0-py2.py3-none-any.whl (13 kB)\n",
      "Downloading docker-7.1.0-py3-none-any.whl (147 kB)\n",
      "Downloading humanfriendly-10.0-py2.py3-none-any.whl (86 kB)\n",
      "Downloading jmespath-1.0.1-py3-none-any.whl (20 kB)\n",
      "Downloading jsonpickle-4.0.1-py3-none-any.whl (46 kB)\n",
      "Downloading knack-0.12.0-py3-none-any.whl (60 kB)\n",
      "Downloading msal-1.31.1-py3-none-any.whl (113 kB)\n",
      "Downloading msal_extensions-1.2.0-py3-none-any.whl (19 kB)\n",
      "Downloading msrest-0.7.1-py3-none-any.whl (85 kB)\n",
      "Downloading msrestazure-0.6.4.post1-py2.py3-none-any.whl (40 kB)\n",
      "Downloading ndg_httpsclient-0.5.1-py3-none-any.whl (34 kB)\n",
      "Downloading paramiko-3.5.0-py3-none-any.whl (227 kB)\n",
      "Downloading PyJWT-2.10.1-py3-none-any.whl (22 kB)\n",
      "Downloading pyOpenSSL-24.3.0-py3-none-any.whl (56 kB)\n",
      "Downloading requests-2.32.3-py3-none-any.whl (64 kB)\n",
      "Downloading SecretStorage-3.3.3-py3-none-any.whl (15 kB)\n",
      "Downloading urllib3-2.3.0-py3-none-any.whl (128 kB)\n",
      "Downloading backports.tempfile-1.0-py2.py3-none-any.whl (4.4 kB)\n",
      "Downloading pkginfo-1.12.0-py3-none-any.whl (32 kB)\n",
      "Downloading azure_mgmt_core-1.5.0-py3-none-any.whl (30 kB)\n",
      "Downloading bcrypt-4.2.1-cp39-abi3-win_amd64.whl (153 kB)\n",
      "Downloading certifi-2024.12.14-py3-none-any.whl (164 kB)\n",
      "Downloading charset_normalizer-3.4.1-cp310-cp310-win_amd64.whl (102 kB)\n",
      "Downloading cryptography-44.0.0-cp39-abi3-win_amd64.whl (3.2 MB)\n",
      "   ---------------------------------------- 0.0/3.2 MB ? eta -:--:--\n",
      "   ------ --------------------------------- 0.5/3.2 MB 3.4 MB/s eta 0:00:01\n",
      "   ---------------- ----------------------- 1.3/3.2 MB 3.7 MB/s eta 0:00:01\n",
      "   ----------------------------- ---------- 2.4/3.2 MB 3.8 MB/s eta 0:00:01\n",
      "   ------------------------------------ --- 2.9/3.2 MB 3.6 MB/s eta 0:00:01\n",
      "   ---------------------------------------- 3.2/3.2 MB 3.6 MB/s eta 0:00:00\n",
      "Downloading idna-3.10-py3-none-any.whl (70 kB)\n",
      "Downloading isodate-0.7.2-py3-none-any.whl (22 kB)\n",
      "Downloading jeepney-0.8.0-py3-none-any.whl (48 kB)\n",
      "Downloading portalocker-2.10.1-py3-none-any.whl (18 kB)\n",
      "Downloading pyasn1-0.6.1-py3-none-any.whl (83 kB)\n",
      "Downloading PyNaCl-1.5.0-cp36-abi3-win_amd64.whl (212 kB)\n",
      "Downloading PySocks-1.7.1-py3-none-any.whl (16 kB)\n",
      "Downloading requests_oauthlib-2.0.0-py2.py3-none-any.whl (24 kB)\n",
      "Downloading backports.weakref-1.0.post1-py2.py3-none-any.whl (5.2 kB)\n",
      "Downloading pyreadline3-3.5.4-py3-none-any.whl (83 kB)\n",
      "Downloading tabulate-0.9.0-py3-none-any.whl (35 kB)\n",
      "Downloading cffi-1.17.1-cp310-cp310-win_amd64.whl (181 kB)\n",
      "Downloading oauthlib-3.2.2-py3-none-any.whl (151 kB)\n",
      "Downloading pycparser-2.22-py3-none-any.whl (117 kB)\n",
      "Installing collected packages: backports.weakref, azure-common, urllib3, tabulate, PySocks, pyreadline3, PyJWT, pycparser, pyasn1, portalocker, pkginfo, oauthlib, jsonpickle, jmespath, jeepney, isodate, idna, contextlib2, charset-normalizer, certifi, bcrypt, backports.tempfile, argcomplete, requests, knack, humanfriendly, cffi, requests-oauthlib, pynacl, docker, cryptography, azure-core, SecretStorage, pyopenssl, paramiko, msrest, azure-mgmt-core, adal, ndg-httpsclient, msrestazure, msal, azure-mgmt-storage, azure-mgmt-resource, azure-mgmt-network, azure-mgmt-keyvault, azure-mgmt-containerregistry, azure-mgmt-authorization, msal-extensions, azure-graphrbac, azureml-core\n",
      "Successfully installed PyJWT-2.10.1 PySocks-1.7.1 SecretStorage-3.3.3 adal-1.2.7 argcomplete-3.5.3 azure-common-1.1.28 azure-core-1.32.0 azure-graphrbac-0.61.2 azure-mgmt-authorization-4.0.0 azure-mgmt-containerregistry-10.3.0 azure-mgmt-core-1.5.0 azure-mgmt-keyvault-10.3.1 azure-mgmt-network-28.1.0 azure-mgmt-resource-23.2.0 azure-mgmt-storage-21.2.1 azureml-core-1.59.0 backports.tempfile-1.0 backports.weakref-1.0.post1 bcrypt-4.2.1 certifi-2024.12.14 cffi-1.17.1 charset-normalizer-3.4.1 contextlib2-21.6.0 cryptography-44.0.0 docker-7.1.0 humanfriendly-10.0 idna-3.10 isodate-0.7.2 jeepney-0.8.0 jmespath-1.0.1 jsonpickle-4.0.1 knack-0.12.0 msal-1.31.1 msal-extensions-1.2.0 msrest-0.7.1 msrestazure-0.6.4.post1 ndg-httpsclient-0.5.1 oauthlib-3.2.2 paramiko-3.5.0 pkginfo-1.12.0 portalocker-2.10.1 pyasn1-0.6.1 pycparser-2.22 pynacl-1.5.0 pyopenssl-24.3.0 pyreadline3-3.5.4 requests-2.32.3 requests-oauthlib-2.0.0 tabulate-0.9.0 urllib3-2.3.0\n"
     ]
    }
   ],
   "source": [
    "%pip install azureml-core"
   ]
  },
  {
   "cell_type": "code",
   "execution_count": 2,
   "metadata": {},
   "outputs": [
    {
     "name": "stdout",
     "output_type": "stream",
     "text": [
      "This notebook was created using version 1.56.0 of the Azure ML SDK\n",
      "You are currently using version 1.59.0 of the Azure ML SDK\n"
     ]
    }
   ],
   "source": [
    "import azureml.core\n",
    "\n",
    "print(\"This notebook was created using version 1.56.0 of the Azure ML SDK\")\n",
    "print(\"You are currently using version\", azureml.core.VERSION, \"of the Azure ML SDK\")"
   ]
  },
  {
   "cell_type": "markdown",
   "metadata": {},
   "source": [
    "- If you are using an older version of the SDK then this notebook was created using, you should upgrade your SDK.\n",
    "\n",
    "---"
   ]
  },
  {
   "cell_type": "markdown",
   "metadata": {},
   "source": [
    "### 2.3. Azure Container Instance registration\n",
    "- Azure Machine Learning uses of [Azure Container Instance (ACI)](https://azure.microsoft.com/services/container-instances) to deploy dev/test web services. An Azure subscription needs to be registered to use ACI.  If you or the subscription owner have not yet registered ACI on your subscription, you will need to use the [Azure CLI](https://docs.microsoft.com/en-us/cli/azure/install-azure-cli?view=azure-cli-latest) and execute the following commands.  Note that if you ran through the AML [quickstart](https://docs.microsoft.com/en-us/azure/machine-learning/service/quickstart-get-started) you have already registered ACI.\n",
    "\n",
    "\n",
    "```shell\n",
    "# check to see if ACI is already registered\n",
    "(myenv) $ az provider show -n Microsoft.ContainerInstance -o table\n",
    "\n",
    "# if ACI is not registered, run this command.\n",
    "# note you need to be the subscription owner in order to execute this command successfully.\n",
    "(myenv) $ az provider register -n Microsoft.ContainerInstance\n",
    "```\n",
    "\n",
    "---"
   ]
  },
  {
   "cell_type": "markdown",
   "metadata": {},
   "source": [
    "## 3.0 Configure your Azure ML workspace\n",
    "\n",
    "### **3.1 Workspace parameters**\n",
    "\n",
    "- To use an AML Workspace, you will need to import the Azure ML SDK and supply the following information:\n",
    "  * Your subscription id\n",
    "  * A resource group name\n",
    "  * (optional) The region that will host your workspace\n",
    "  * A name for your workspace\n",
    "\n",
    "- You can get your subscription ID from the [Azure portal](https://portal.azure.com).\n",
    "\n",
    "- You will also need access to a [_resource group_](https://docs.microsoft.com/en-us/azure/azure-resource-manager/resource-group-overview#resource-groups), which organizes Azure resources and provides a default region for the resources in a group.  You can see what resource groups to which you have access, or create a new one in the [Azure portal](https://portal.azure.com).  If you don't have a resource group, the create workspace command will create one for you using the name you provide.\n",
    "\n",
    "- The region to host your workspace will be used if you are creating a new workspace.  You do not need to specify this if you are using an existing workspace. You can find the list of supported regions [here](https://azure.microsoft.com/en-us/global-infrastructure/services/?products=machine-learning-service).  You should pick a region that is close to your location or that contains your data.\n",
    "\n",
    "- The name for your workspace is unique within the subscription and should be descriptive enough to discern among other AML Workspaces.  The subscription may be used only by you, or it may be used by your department or your entire enterprise, so choose a name that makes sense for your situation.\n",
    "\n",
    "- The following cell allows you to specify your workspace parameters.  This cell uses the python method `os.getenv` to read values from environment variables which is useful for automation.  If no environment variable exists, the parameters will be set to the specified default values.  \n",
    "\n",
    "- If you ran the Azure Machine Learning [quickstart](https://docs.microsoft.com/en-us/azure/machine-learning/service/quickstart-get-started) in Azure Notebooks, you already have a configured workspace!  You can go to your Azure Machine Learning Getting Started library, view *config.json* file, and copy-paste the values for subscription ID, resource group and workspace name below.\n",
    "\n",
    "Replace the default values in the cell below with your workspace parameters"
   ]
  },
  {
   "cell_type": "code",
   "execution_count": 3,
   "metadata": {},
   "outputs": [],
   "source": [
    "import os\n",
    "\n",
    "subscription_id = os.getenv(\"SUBSCRIPTION_ID\", default=\"88187483-a72c-4f6a-83e5-43f1855302e1\")\n",
    "resource_group = os.getenv(\"RESOURCE_GROUP\", default=\"RG000-Central_RG\")\n",
    "workspace_name = os.getenv(\"WORKSPACE_NAME\", default=\"WS000-CentralWorkSpace\")\n",
    "workspace_region = os.getenv(\"WORKSPACE_REGION\", default=\"South Africa North\")"
   ]
  },
  {
   "cell_type": "markdown",
   "metadata": {},
   "source": [
    "---"
   ]
  },
  {
   "cell_type": "markdown",
   "metadata": {},
   "source": [
    "### **3.2 Access your workspace**\n",
    "\n",
    "- The following cell uses the Azure ML SDK to attempt to load the workspace specified by your parameters.  If this cell succeeds, your notebook library will be configured to access the workspace from all notebooks using the `Workspace.from_config()` method.  The cell can fail if the specified workspace doesn't exist or you don't have permissions to access it. "
   ]
  },
  {
   "cell_type": "code",
   "execution_count": 6,
   "metadata": {},
   "outputs": [
    {
     "name": "stdout",
     "output_type": "stream",
     "text": [
      "Workspace configuration succeeded. Skip the workspace creation steps below\n"
     ]
    }
   ],
   "source": [
    "from azureml.core import Workspace\n",
    "\n",
    "try:\n",
    "    ws = Workspace(subscription_id = subscription_id, resource_group = resource_group, workspace_name = workspace_name)\n",
    "    # write the details of the workspace to a configuration file to the notebook library\n",
    "    ws.write_config()\n",
    "    print(\"Workspace configuration succeeded. Skip the workspace creation steps below\")\n",
    "except:\n",
    "    print(\"Workspace not accessible. Change your parameters or create a new workspace below\")"
   ]
  },
  {
   "cell_type": "markdown",
   "metadata": {},
   "source": [
    "---"
   ]
  },
  {
   "cell_type": "markdown",
   "metadata": {},
   "source": [
    "### **3.3 Create a new workspace**\n",
    "\n",
    "- If you don't have an existing workspace and are the owner of the subscription or resource group, you can create a new workspace.  If you don't have a resource group, the create workspace command will create one for you using the name you provide.\n",
    "\n",
    "**Note**: As with other Azure services, there are limits on certain resources (for example AmlCompute quota) associated with the Azure ML service. Please read [this article](https://docs.microsoft.com/en-us/azure/machine-learning/service/how-to-manage-quotas) on the default limits and how to request more quota.\n",
    "\n",
    "- This cell will create an Azure ML workspace for you in a subscription provided you have the correct permissions.\n",
    "\n",
    "This will fail if:\n",
    "* You do not have permission to create a workspace in the resource group\n",
    "* You do not have permission to create a resource group if it's non-existing.\n",
    "* You are not a subscription owner or contributor and no Azure ML workspaces have ever been created in this subscription\n",
    "\n",
    "If workspace creation fails, please work with your IT admin to provide you with the appropriate permissions or to provision the required resources.\n",
    "\n",
    "**Note**: A Basic workspace is created by default. If you would like to create an Enterprise workspace, please specify sku = 'enterprise'.\n",
    "Please visit our [pricing page](https://azure.microsoft.com/en-us/pricing/details/machine-learning/) for more details on our Enterprise edition.\n"
   ]
  },
  {
   "cell_type": "code",
   "execution_count": 5,
   "metadata": {},
   "outputs": [
    {
     "name": "stdout",
     "output_type": "stream",
     "text": [
      "Deploying KeyVault with name ws000cenkeyvaultfeb4310f.\n",
      "Deploying StorageAccount with name ws000censtorage31add608c.\n",
      "Deploying AppInsights with name ws000ceninsights970603b4.\n",
      "Deployed AppInsights with name ws000ceninsights970603b4. Took 69.56 seconds.\n",
      "Deploying Workspace with name WS000-CentralWorkSpace.\n",
      "Deployed Workspace with name WS000-CentralWorkSpace. Took 57.89 seconds.\n"
     ]
    }
   ],
   "source": [
    "from azureml.core import Workspace\n",
    "\n",
    "# Create the workspace using the specified parameters\n",
    "ws = Workspace.create(name = workspace_name,\n",
    "                    subscription_id = subscription_id,\n",
    "                    resource_group = resource_group, \n",
    "                    location = workspace_region,\n",
    "                    create_resource_group = False,\n",
    "                    sku = 'basic',\n",
    "                    exist_ok = True)\n",
    "ws.get_details()\n",
    "\n",
    "# write the details of the workspace to a configuration file to the notebook library\n",
    "ws.write_config()"
   ]
  },
  {
   "cell_type": "markdown",
   "metadata": {},
   "source": [
    "### **3.4 Create compute resources for your training experiments**\n",
    "\n",
    "- Many of the sample notebooks use Azure ML managed compute (AmlCompute) to train models using a dynamically scalable pool of compute. In this section you will create default compute clusters for use by the other notebooks and any other operations you choose.\n",
    "\n",
    "> Note that if you have an AzureML Data Scientist role, you will not have permission to create compute resources. Talk to your workspace or IT admin to create the compute targets described in this section, if they do not already exist.\n",
    "\n",
    "- To create a cluster, you need to specify a compute configuration that specifies the type of machine to be used and the scalability behaviors.  Then you choose a name for the cluster that is unique within the workspace that can be used to address the cluster later.\n",
    "\n",
    "The cluster parameters are:\n",
    "* vm_size - this describes the virtual machine type and size used in the cluster.  All machines in the cluster are the same type.  You can get the list of vm sizes available in your region by using the CLI command\n",
    "\n",
    "```shell\n",
    "az vm list-skus -o tsv\n",
    "```\n",
    "* min_nodes - this sets the minimum size of the cluster.  If you set the minimum to 0 the cluster will shut down all nodes while not in use.  Setting this number to a value higher than 0 will allow for faster start-up times, but you will also be billed when the cluster is not in use.\n",
    "* max_nodes - this sets the maximum size of the cluster.  Setting this to a larger number allows for more concurrency and a greater distributed processing of scale-out jobs.\n",
    "\n",
    "\n",
    "- To create a **CPU** cluster now, run the cell below. The autoscale settings mean that the cluster will scale down to 0 nodes when inactive and up to 4 nodes when busy."
   ]
  },
  {
   "cell_type": "code",
   "execution_count": 7,
   "metadata": {},
   "outputs": [
    {
     "name": "stdout",
     "output_type": "stream",
     "text": [
      "Creating new cpu-cluster\n",
      "InProgress......\n",
      "SucceededProvisioning operation finished, operation \"Succeeded\"\n",
      "Succeeded\n",
      "AmlCompute wait for completion finished\n",
      "\n",
      "Minimum number of nodes requested have been provisioned\n"
     ]
    }
   ],
   "source": [
    "from azureml.core.compute import ComputeTarget, AmlCompute\n",
    "from azureml.core.compute_target import ComputeTargetException\n",
    "\n",
    "# Choose a name for your CPU cluster\n",
    "cpu_cluster_name = \"cpu-cluster\"\n",
    "\n",
    "# Verify that cluster does not exist already\n",
    "try:\n",
    "    cpu_cluster = ComputeTarget(workspace=ws, name=cpu_cluster_name)\n",
    "    print(\"Found existing cpu-cluster\")\n",
    "except ComputeTargetException:\n",
    "    print(\"Creating new cpu-cluster\")\n",
    "    \n",
    "    # Specify the configuration for the new cluster\n",
    "    compute_config = AmlCompute.provisioning_configuration(vm_size=\"STANDARD_D2_V2\",\n",
    "                                                        min_nodes=0,\n",
    "                                                        max_nodes=4)\n",
    "\n",
    "    # Create the cluster with the specified name and configuration\n",
    "    cpu_cluster = ComputeTarget.create(ws, cpu_cluster_name, compute_config)\n",
    "    \n",
    "    # Wait for the cluster to complete, show the output log\n",
    "    cpu_cluster.wait_for_completion(show_output=True)"
   ]
  },
  {
   "cell_type": "markdown",
   "metadata": {},
   "source": [
    "# Create a URI file data asset"
   ]
  },
  {
   "cell_type": "code",
   "execution_count": null,
   "metadata": {},
   "outputs": [],
   "source": [
    "from azure.ai.ml.entities import Data\n",
    "from azure.ai.ml.constants import AssetTypes\n",
    "\n",
    "my_path = '<supported-path>'\n",
    "\n",
    "my_data = Data(\n",
    "    path=my_path,\n",
    "    type=AssetTypes.URI_FILE,\n",
    "    description=\"<description>\",\n",
    "    name=\"<name>\",\n",
    "    version=\"<version>\"\n",
    ")\n",
    "\n",
    "ml_client.data.create_or_update(my_data)"
   ]
  },
  {
   "cell_type": "markdown",
   "metadata": {},
   "source": [
    "# Create a URI file data Folder"
   ]
  },
  {
   "cell_type": "code",
   "execution_count": null,
   "metadata": {},
   "outputs": [],
   "source": [
    "from azure.ai.ml.entities import Data\n",
    "from azure.ai.ml.constants import AssetTypes\n",
    "\n",
    "my_path = '<supported-path>'\n",
    "\n",
    "my_data = Data(\n",
    "    path=my_path,\n",
    "    type=AssetTypes.URI_FOLDER,\n",
    "    description=\"<description>\",\n",
    "    name=\"<name>\",\n",
    "    version='<version>'\n",
    ")\n",
    "\n",
    "ml_client.data.create_or_update(my_data)"
   ]
  },
  {
   "cell_type": "markdown",
   "metadata": {},
   "source": [
    "Imagine you create a Python script you want to run as a job, and you set the value of the input parameter input_data to be the URI folder data asset (which points to multiple CSV files). You can read all CSV files in the folder and concatenate them, which you can do by including the following code in your Python script:"
   ]
  },
  {
   "cell_type": "code",
   "execution_count": null,
   "metadata": {},
   "outputs": [],
   "source": [
    "import argparse\n",
    "import glob\n",
    "import pandas as pd\n",
    "\n",
    "parser = argparse.ArgumentParser()\n",
    "parser.add_argument(\"--input_data\", type=str)\n",
    "args = parser.parse_args()\n",
    "\n",
    "data_path = args.input_data\n",
    "all_files = glob.glob(data_path + \"/*.csv\")\n",
    "df = pd.concat((pd.read_csv(f) for f in all_files), sort=False)"
   ]
  },
  {
   "cell_type": "markdown",
   "metadata": {},
   "source": [
    "# MLTable data asset with the Python SDK"
   ]
  },
  {
   "cell_type": "code",
   "execution_count": null,
   "metadata": {},
   "outputs": [],
   "source": [
    "from azure.ai.ml.entities import Data\n",
    "from azure.ai.ml.constants import AssetTypes\n",
    "\n",
    "my_path = '<path-including-mltable-file>'\n",
    "\n",
    "my_data = Data(\n",
    "    path=my_path,\n",
    "    type=AssetTypes.MLTABLE,\n",
    "    description=\"<description>\",\n",
    "    name=\"<name>\",\n",
    "    version='<version>'\n",
    ")\n",
    "\n",
    "ml_client.data.create_or_update(my_data)"
   ]
  },
  {
   "cell_type": "markdown",
   "metadata": {},
   "source": [
    "When you parse a MLTable data asset as input to a Python script you want to run as an Azure Machine Learning job, you can include the following code to read the data:"
   ]
  },
  {
   "cell_type": "code",
   "execution_count": null,
   "metadata": {},
   "outputs": [],
   "source": [
    "import argparse\n",
    "import mltable\n",
    "import pandas\n",
    "\n",
    "parser = argparse.ArgumentParser()\n",
    "parser.add_argument(\"--input_data\", type=str)\n",
    "args = parser.parse_args()\n",
    "\n",
    "tbl = mltable.load(args.input_data)\n",
    "df = tbl.to_pandas_dataframe()\n",
    "\n",
    "print(df.head(10))"
   ]
  }
 ],
 "metadata": {
  "kernelspec": {
   "display_name": ".venv",
   "language": "python",
   "name": "python3"
  },
  "language_info": {
   "codemirror_mode": {
    "name": "ipython",
    "version": 3
   },
   "file_extension": ".py",
   "mimetype": "text/x-python",
   "name": "python",
   "nbconvert_exporter": "python",
   "pygments_lexer": "ipython3",
   "version": "3.10.0rc2"
  }
 },
 "nbformat": 4,
 "nbformat_minor": 2
}
